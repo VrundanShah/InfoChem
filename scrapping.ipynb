{
 "cells": [
  {
   "cell_type": "code",
   "execution_count": null,
   "metadata": {},
   "outputs": [],
   "source": [
    "import requests\n",
    "from bs4 import BeautifulSoup\n",
    "import re\n",
    "import csv\n",
    "\n",
    "csv_file = 'data_csv.csv'\n",
    "\n",
    "def RemoveHTMLTags(strr):\n",
    "    return re.compile(r'<[^>]+>').sub('', strr)\n",
    "\n",
    "all_heading = []\n",
    "all_questions = []\n",
    "all_links_content = []\n",
    "\n",
    "for i in range(2000,3000):\n",
    "    try:\n",
    "        r =  requests.get(f'https://www.vasp.at/forum/viewtopic.php?t={i}', timeout=10)\n",
    "        print(r) \n",
    "        soup = BeautifulSoup(r.content, 'html.parser') \n",
    "        heading = [RemoveHTMLTags(str(soup.find('title')).split('. -')[0])]\n",
    "        question = [RemoveHTMLTags(str(soup.find('div', class_='content')))]\n",
    "        s = soup.find_all('div', class_='postbody')[2:]\n",
    "        answers = []\n",
    "        for j in range(len(s)):\n",
    "            answers += [RemoveHTMLTags(str(s[j].find_all('div', class_='content')))]\n",
    "        link = [f'https://www.vasp.at/forum/viewtopic.php?t={i}']\n",
    "        with open(csv_file, 'a') as csvfile:\n",
    "            csvwriter = csv.writer(csvfile)\n",
    "            csvwriter.writerow([heading, question, answers, link])\n",
    "    except:\n",
    "        print(f'Unable to preocess the link {link}')"
   ]
  },
  {
   "cell_type": "code",
   "execution_count": null,
   "metadata": {},
   "outputs": [],
   "source": []
  }
 ],
 "metadata": {
  "kernelspec": {
   "display_name": "hackathon_env",
   "language": "python",
   "name": "python3"
  },
  "language_info": {
   "codemirror_mode": {
    "name": "ipython",
    "version": 3
   },
   "file_extension": ".py",
   "mimetype": "text/x-python",
   "name": "python",
   "nbconvert_exporter": "python",
   "pygments_lexer": "ipython3",
   "version": "3.10.12"
  }
 },
 "nbformat": 4,
 "nbformat_minor": 2
}
