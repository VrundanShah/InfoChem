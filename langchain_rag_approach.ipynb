{
 "cells": [
  {
   "cell_type": "code",
   "execution_count": 1,
   "metadata": {},
   "outputs": [
    {
     "name": "stderr",
     "output_type": "stream",
     "text": [
      "/home/vrundan/hackathon/hackathon_env/lib/python3.10/site-packages/tqdm/auto.py:21: TqdmWarning: IProgress not found. Please update jupyter and ipywidgets. See https://ipywidgets.readthedocs.io/en/stable/user_install.html\n",
      "  from .autonotebook import tqdm as notebook_tqdm\n"
     ]
    }
   ],
   "source": [
    "from langchain.document_loaders import HuggingFaceDatasetLoader\n",
    "from langchain.text_splitter import RecursiveCharacterTextSplitter\n",
    "from langchain.embeddings import HuggingFaceEmbeddings\n",
    "from langchain.vectorstores import FAISS\n",
    "from transformers import AutoTokenizer, AutoModelForQuestionAnswering, AutoModelForCausalLM\n",
    "from transformers import AutoTokenizer, pipeline\n",
    "from langchain import HuggingFacePipeline\n",
    "from langchain.chains import RetrievalQA"
   ]
  },
  {
   "cell_type": "code",
   "execution_count": 11,
   "metadata": {},
   "outputs": [],
   "source": [
    "from langchain_community.document_loaders.csv_loader import CSVLoader\n",
    "\n",
    "loader = CSVLoader(file_path='all_data_filtered.csv')\n",
    "data = loader.load()"
   ]
  },
  {
   "cell_type": "code",
   "execution_count": 12,
   "metadata": {},
   "outputs": [
    {
     "data": {
      "text/plain": [
       "\"Title: ['ftp server - My Community']\\nDescription: ['the ftp server to download code and potential data bases is up again?  ']\\nAnswers: ['[yes]']\\nlink to forum: ['https://www.vasp.at/forum/viewtopic.php?t=1']\""
      ]
     },
     "execution_count": 12,
     "metadata": {},
     "output_type": "execute_result"
    }
   ],
   "source": [
    "data[0].page_content"
   ]
  },
  {
   "cell_type": "code",
   "execution_count": 13,
   "metadata": {},
   "outputs": [
    {
     "name": "stderr",
     "output_type": "stream",
     "text": [
      "/home/vrundan/hackathon/hackathon_env/lib/python3.10/site-packages/huggingface_hub/file_download.py:1132: FutureWarning: `resume_download` is deprecated and will be removed in version 1.0.0. Downloads always resume when possible. If you want to force a new download, use `force_download=True`.\n",
      "  warnings.warn(\n"
     ]
    }
   ],
   "source": [
    "# Define the path to the pre-trained model you want to use\n",
    "modelPath = \"sentence-transformers/all-MiniLM-l6-v2\"\n",
    "\n",
    "# Create a dictionary with model configuration options, specifying to use the CPU for computations\n",
    "model_kwargs = {'device':'cpu'}\n",
    "\n",
    "# Create a dictionary with encoding options, specifically setting 'normalize_embeddings' to False\n",
    "encode_kwargs = {'normalize_embeddings': False}\n",
    "\n",
    "# Initialize an instance of HuggingFaceEmbeddings with the specified parameters\n",
    "embeddings = HuggingFaceEmbeddings(\n",
    "    model_name=modelPath,     # Provide the pre-trained model's path\n",
    "    model_kwargs=model_kwargs, # Pass the model configuration options\n",
    "    encode_kwargs=encode_kwargs # Pass the encoding options\n",
    ")"
   ]
  },
  {
   "cell_type": "code",
   "execution_count": 14,
   "metadata": {},
   "outputs": [
    {
     "data": {
      "text/plain": [
       "384"
      ]
     },
     "execution_count": 14,
     "metadata": {},
     "output_type": "execute_result"
    }
   ],
   "source": [
    "text = \"This is a test document.\"\n",
    "query_result = embeddings.embed_query(text)\n",
    "len(query_result)"
   ]
  },
  {
   "cell_type": "code",
   "execution_count": 15,
   "metadata": {},
   "outputs": [],
   "source": [
    "db = FAISS.from_documents(data, embeddings)"
   ]
  },
  {
   "cell_type": "code",
   "execution_count": 16,
   "metadata": {},
   "outputs": [],
   "source": [
    "question = \"How to download vasp?\"\n",
    "searchDocs = db.similarity_search(question, k=5)"
   ]
  },
  {
   "cell_type": "code",
   "execution_count": 17,
   "metadata": {},
   "outputs": [
    {
     "name": "stdout",
     "output_type": "stream",
     "text": [
      "Title: ['How to download the VASP package? - My Community']\n",
      "Description: ['Hi to all.\\n  At our institution we recently got one licence for the VASP package. I received the email with the passwords for the program and the potentials with no further instructions as how/where do I download the VASP package?\\n\\n  I apologize for the (maybe) silly question.\\n\\nThanks in advance and best regards,\\nzee']\n",
      "Answers: ['[please have a look into the \"installation of VASP\" chapter in the online VASP manual]']\n",
      "link to forum: ['https://www.vasp.at/forum/viewtopic.php?t=3031']\n",
      "Title: ['where can I get VASP 4.6.31? - My Community']\n",
      "Description: ['Dear VASP Master &amp; Fellow Users: \\n\\n   I will add EFIELD ,but I have heard that only vasp.4.6.31 can do this work.\\n   My question is where can I get VASP 4.6.31?\\n\\nRegards,']\n",
      "Answers: ['[please ask the head of your vasp-group to download it for you from our ftp server.]']\n",
      "link to forum: ['https://www.vasp.at/forum/viewtopic.php?t=5037']\n",
      "Title: ['how to get VASP4.6 - My Community']\n",
      "Description: ['hi,hi,\\nHow can I get Vasp4.6 package? Now I use Vasp4.4.5 package, I want to get new one.\\nThanks']\n",
      "Answers: ['[if you have a valid license, \\nplease ask the person who is responsible for the maintainance of VASP at your site to download it from our ftp server]']\n",
      "link to forum: ['https://www.vasp.at/forum/viewtopic.php?t=645']\n",
      "Title: ['VASP SOFTWARE - My Community']\n",
      "Description: ['Hello,\\nWhen can I buy the vasp software?\\nThanks']\n",
      "Answers: [\"[I am sorry, it's WHERE and not WHEN]\", '[Look around the middle of the vasp homepage: http://cms.mpi.univie.ac.at/vasp/]', '[please contact Prof Hafner \\nJuergen.Hafner@univie.ac.at if you are interested in purchasing a vasp license. Please give him some details about your affiliation (academics,..)  so he can send you the appropriate answer and license agreement form]']\n",
      "link to forum: ['https://www.vasp.at/forum/viewtopic.php?t=1323']\n",
      "Title: ['where can I get VASP 4.6.31? - My Community']\n",
      "Description: ['Dear VASP Master &amp; Fellow Users: \\n\\n   I will add EFIELD ,but I have heard that only vasp.4.6.31 can do this work.\\n   My question is where can I get VASP 4.6.31?   \\n   Is it  http://cms.mpi.univie.ac.at/vasp?  but I can`t see where is the download button.\\n\\nRegards.']\n",
      "Answers: ['[only the colleague of your VASP group to whom we have sent the passwords is allowed to download vasp from the server, there simply  is no download button on our web-site.]', \"[we bought the vasp half years ago,and \\nOur E-mail have receied the address http://cms.mpi.univie.ac.at/vasp? \\n,but I don't think it is the correct address.\\n\\nwhich address can access the server,I have the passwords .]\", '[You should have a look the vasp manual first\\nBTW:Is that true about only vasp.4.6.31 can do EFIELD calculation?]', '[no. EFIELD is already included in the oldest vasp.4.6 versions I have kept (4.6.12)]', '[no. EFIELD is already included in the oldest vasp.4.6 versions I have kept (4.6.12)]']\n",
      "link to forum: ['https://www.vasp.at/forum/viewtopic.php?t=5038']\n"
     ]
    }
   ],
   "source": [
    "for i in range(5):\n",
    "    print(searchDocs[i].page_content)"
   ]
  },
  {
   "cell_type": "code",
   "execution_count": null,
   "metadata": {},
   "outputs": [],
   "source": []
  }
 ],
 "metadata": {
  "kernelspec": {
   "display_name": "hackathon_env",
   "language": "python",
   "name": "python3"
  },
  "language_info": {
   "codemirror_mode": {
    "name": "ipython",
    "version": 3
   },
   "file_extension": ".py",
   "mimetype": "text/x-python",
   "name": "python",
   "nbconvert_exporter": "python",
   "pygments_lexer": "ipython3",
   "version": "3.10.12"
  }
 },
 "nbformat": 4,
 "nbformat_minor": 2
}
